{
 "cells": [
  {
   "cell_type": "code",
   "execution_count": 54,
   "metadata": {},
   "outputs": [
    {
     "data": {
      "text/html": [
       "<div>\n",
       "<style scoped>\n",
       "    .dataframe tbody tr th:only-of-type {\n",
       "        vertical-align: middle;\n",
       "    }\n",
       "\n",
       "    .dataframe tbody tr th {\n",
       "        vertical-align: top;\n",
       "    }\n",
       "\n",
       "    .dataframe thead th {\n",
       "        text-align: right;\n",
       "    }\n",
       "</style>\n",
       "<table border=\"1\" class=\"dataframe\">\n",
       "  <thead>\n",
       "    <tr style=\"text-align: right;\">\n",
       "      <th></th>\n",
       "      <th>id</th>\n",
       "      <th>url</th>\n",
       "      <th>header</th>\n",
       "      <th>endereço</th>\n",
       "      <th>area</th>\n",
       "      <th>comodos</th>\n",
       "      <th>banheiros</th>\n",
       "      <th>garagens</th>\n",
       "      <th>extras</th>\n",
       "      <th>preço</th>\n",
       "      <th>condomínio</th>\n",
       "      <th>Bairro</th>\n",
       "      <th>Retirado em</th>\n",
       "    </tr>\n",
       "  </thead>\n",
       "  <tbody>\n",
       "    <tr>\n",
       "      <th>0</th>\n",
       "      <td>2494003097</td>\n",
       "      <td>https://www.vivareal.com.br/imovel/apartamento...</td>\n",
       "      <td>Apartamento com 2 Quartos à Venda, 65m²</td>\n",
       "      <td>Rua Gomes Carneiro, 54 - Ipanema, Rio de Janei...</td>\n",
       "      <td>65</td>\n",
       "      <td>2 Quartos</td>\n",
       "      <td>2 Banheiros</td>\n",
       "      <td>-- Vaga</td>\n",
       "      <td>Elevador\\nCondomínio fechado\\nAr-condicionado\\...</td>\n",
       "      <td>R$ 900.000</td>\n",
       "      <td>R$ 1.200</td>\n",
       "      <td>Ipanema</td>\n",
       "      <td>2021-04-14 10:36</td>\n",
       "    </tr>\n",
       "    <tr>\n",
       "      <th>1</th>\n",
       "      <td>https://www.vivareal.com.br/imoveis-lancamento...</td>\n",
       "      <td>https://www.vivareal.com.br/imoveis-lancamento...</td>\n",
       "      <td>Two Suites Ipanema</td>\n",
       "      <td>Rua Prudente de Morais, 326 - Ipanema, Rio de ...</td>\n",
       "      <td>89-177</td>\n",
       "      <td>1-2 Quartos</td>\n",
       "      <td>1-2 Banheiros</td>\n",
       "      <td>1-2 Vagas</td>\n",
       "      <td>NaN</td>\n",
       "      <td>Sob Consulta</td>\n",
       "      <td>NaN</td>\n",
       "      <td>Ipanema</td>\n",
       "      <td>2021-04-14 10:36</td>\n",
       "    </tr>\n",
       "    <tr>\n",
       "      <th>2</th>\n",
       "      <td>2513330208</td>\n",
       "      <td>https://www.vivareal.com.br/imovel/apartamento...</td>\n",
       "      <td>Apartamento com 2 Quartos à Venda, 60m²</td>\n",
       "      <td>Rua Barão da Torre, 32 - Ipanema, Rio de Janei...</td>\n",
       "      <td>60</td>\n",
       "      <td>2 Quartos</td>\n",
       "      <td>1 Banheiro</td>\n",
       "      <td>-- Vaga</td>\n",
       "      <td>Elevador\\nAr-condicionado\\nAceita animais\\nBic...</td>\n",
       "      <td>R$ 750.000</td>\n",
       "      <td>R$ 998</td>\n",
       "      <td>Ipanema</td>\n",
       "      <td>2021-04-14 10:36</td>\n",
       "    </tr>\n",
       "    <tr>\n",
       "      <th>3</th>\n",
       "      <td>2492537104</td>\n",
       "      <td>https://www.vivareal.com.br/imovel/apartamento...</td>\n",
       "      <td>Apartamento com 3 Quartos à Venda, 109m²</td>\n",
       "      <td>Rua Almirante Saddock de Sá - Ipanema, Rio de ...</td>\n",
       "      <td>109</td>\n",
       "      <td>3 Quartos</td>\n",
       "      <td>2 Banheiros</td>\n",
       "      <td>1 Vaga</td>\n",
       "      <td>Área de serviço\\nAceita animais\\nEscritório\\nB...</td>\n",
       "      <td>R$ 1.988.000</td>\n",
       "      <td>R$ 1.119</td>\n",
       "      <td>Ipanema</td>\n",
       "      <td>2021-04-14 10:36</td>\n",
       "    </tr>\n",
       "    <tr>\n",
       "      <th>4</th>\n",
       "      <td>2512731844</td>\n",
       "      <td>https://www.vivareal.com.br/imovel/apartamento...</td>\n",
       "      <td>Apartamento com 3 Quartos à Venda, 120m²</td>\n",
       "      <td>Rua Visconde de Pirajá, 128 - Ipanema, Rio de ...</td>\n",
       "      <td>120</td>\n",
       "      <td>3 Quartos</td>\n",
       "      <td>3 Banheiros</td>\n",
       "      <td>1 Vaga</td>\n",
       "      <td>Elevador\\nAr-condicionado\\nAceita animais\\nPor...</td>\n",
       "      <td>R$ 2.300.000</td>\n",
       "      <td>R$ 1.300</td>\n",
       "      <td>Ipanema</td>\n",
       "      <td>2021-04-14 10:36</td>\n",
       "    </tr>\n",
       "  </tbody>\n",
       "</table>\n",
       "</div>"
      ],
      "text/plain": [
       "                                                  id  \\\n",
       "0                                         2494003097   \n",
       "1  https://www.vivareal.com.br/imoveis-lancamento...   \n",
       "2                                         2513330208   \n",
       "3                                         2492537104   \n",
       "4                                         2512731844   \n",
       "\n",
       "                                                 url  \\\n",
       "0  https://www.vivareal.com.br/imovel/apartamento...   \n",
       "1  https://www.vivareal.com.br/imoveis-lancamento...   \n",
       "2  https://www.vivareal.com.br/imovel/apartamento...   \n",
       "3  https://www.vivareal.com.br/imovel/apartamento...   \n",
       "4  https://www.vivareal.com.br/imovel/apartamento...   \n",
       "\n",
       "                                     header  \\\n",
       "0   Apartamento com 2 Quartos à Venda, 65m²   \n",
       "1                        Two Suites Ipanema   \n",
       "2   Apartamento com 2 Quartos à Venda, 60m²   \n",
       "3  Apartamento com 3 Quartos à Venda, 109m²   \n",
       "4  Apartamento com 3 Quartos à Venda, 120m²   \n",
       "\n",
       "                                            endereço    area      comodos  \\\n",
       "0  Rua Gomes Carneiro, 54 - Ipanema, Rio de Janei...      65    2 Quartos   \n",
       "1  Rua Prudente de Morais, 326 - Ipanema, Rio de ...  89-177  1-2 Quartos   \n",
       "2  Rua Barão da Torre, 32 - Ipanema, Rio de Janei...      60    2 Quartos   \n",
       "3  Rua Almirante Saddock de Sá - Ipanema, Rio de ...     109    3 Quartos   \n",
       "4  Rua Visconde de Pirajá, 128 - Ipanema, Rio de ...     120    3 Quartos   \n",
       "\n",
       "       banheiros   garagens  \\\n",
       "0    2 Banheiros    -- Vaga   \n",
       "1  1-2 Banheiros  1-2 Vagas   \n",
       "2     1 Banheiro    -- Vaga   \n",
       "3    2 Banheiros     1 Vaga   \n",
       "4    3 Banheiros     1 Vaga   \n",
       "\n",
       "                                              extras         preço condomínio  \\\n",
       "0  Elevador\\nCondomínio fechado\\nAr-condicionado\\...    R$ 900.000   R$ 1.200   \n",
       "1                                                NaN  Sob Consulta        NaN   \n",
       "2  Elevador\\nAr-condicionado\\nAceita animais\\nBic...    R$ 750.000     R$ 998   \n",
       "3  Área de serviço\\nAceita animais\\nEscritório\\nB...  R$ 1.988.000   R$ 1.119   \n",
       "4  Elevador\\nAr-condicionado\\nAceita animais\\nPor...  R$ 2.300.000   R$ 1.300   \n",
       "\n",
       "    Bairro       Retirado em  \n",
       "0  Ipanema  2021-04-14 10:36  \n",
       "1  Ipanema  2021-04-14 10:36  \n",
       "2  Ipanema  2021-04-14 10:36  \n",
       "3  Ipanema  2021-04-14 10:36  \n",
       "4  Ipanema  2021-04-14 10:36  "
      ]
     },
     "execution_count": 54,
     "metadata": {},
     "output_type": "execute_result"
    }
   ],
   "source": [
    "import pandas as pd\n",
    "import re\n",
    "zsul = pd.read_csv(\"ZSul_RJ.csv\")\n",
    "zsul.head(5)"
   ]
  },
  {
   "cell_type": "code",
   "execution_count": 8,
   "metadata": {},
   "outputs": [
    {
     "data": {
      "text/plain": [
       "26"
      ]
     },
     "execution_count": 8,
     "metadata": {},
     "output_type": "execute_result"
    }
   ],
   "source": [
    "sum(zsul.duplicated())"
   ]
  },
  {
   "cell_type": "code",
   "execution_count": 9,
   "metadata": {},
   "outputs": [],
   "source": [
    "zsul_sem_duplicados = zsul.drop_duplicates(keep=\"first\", subset=[coluna for coluna in zsul.columns if coluna!=\"Retirado em\"]).reset_index(drop=True)"
   ]
  },
  {
   "cell_type": "code",
   "execution_count": 12,
   "metadata": {},
   "outputs": [
    {
     "data": {
      "text/plain": [
       "0"
      ]
     },
     "execution_count": 12,
     "metadata": {},
     "output_type": "execute_result"
    }
   ],
   "source": [
    "sum(zsul_sem_duplicados.duplicated())"
   ]
  },
  {
   "cell_type": "code",
   "execution_count": 17,
   "metadata": {},
   "outputs": [
    {
     "data": {
      "text/plain": [
       "(8970, 13)"
      ]
     },
     "execution_count": 17,
     "metadata": {},
     "output_type": "execute_result"
    }
   ],
   "source": [
    "zsul_sem_duplicados.shape"
   ]
  },
  {
   "cell_type": "code",
   "execution_count": 15,
   "metadata": {},
   "outputs": [],
   "source": [
    "filtro_de_anuncios = [_id.isnumeric() for _id in zsul_sem_duplicados[\"id\"]]"
   ]
  },
  {
   "cell_type": "code",
   "execution_count": 18,
   "metadata": {},
   "outputs": [],
   "source": [
    "zsul_sem_anuncios = zsul_sem_duplicados[filtro_de_anuncios].reset_index(drop=True)"
   ]
  },
  {
   "cell_type": "code",
   "execution_count": 19,
   "metadata": {},
   "outputs": [
    {
     "data": {
      "text/plain": [
       "(7742, 13)"
      ]
     },
     "execution_count": 19,
     "metadata": {},
     "output_type": "execute_result"
    }
   ],
   "source": [
    "zsul_sem_anuncios.shape"
   ]
  },
  {
   "cell_type": "code",
   "execution_count": 20,
   "metadata": {},
   "outputs": [
    {
     "data": {
      "text/plain": [
       "{'1 Quarto',\n",
       " '13 Quartos',\n",
       " '2 Quartos',\n",
       " '3 Quartos',\n",
       " '4 Quartos',\n",
       " '5 Quartos',\n",
       " '6 Quartos',\n",
       " '7 Quartos',\n",
       " '9 Quartos'}"
      ]
     },
     "execution_count": 20,
     "metadata": {},
     "output_type": "execute_result"
    }
   ],
   "source": [
    "set(zsul_sem_anuncios[\"comodos\"])"
   ]
  },
  {
   "cell_type": "code",
   "execution_count": 22,
   "metadata": {},
   "outputs": [
    {
     "data": {
      "text/plain": [
       "{'1', '13', '2', '3', '4', '5', '6', '7', '9'}"
      ]
     },
     "execution_count": 22,
     "metadata": {},
     "output_type": "execute_result"
    }
   ],
   "source": [
    "set(zsul_sem_anuncios[\"comodos\"].str.split(\" \").str[0].str.replace(\"--\",\"0\"))"
   ]
  },
  {
   "cell_type": "code",
   "execution_count": 24,
   "metadata": {},
   "outputs": [],
   "source": [
    "zsul_sem_anuncios[\"comodos_limpos\"] = 0\n",
    "zsul_sem_anuncios[\"comodos_limpos\"] = (zsul_sem_anuncios[\"comodos\"]\n",
    "                                         .str.replace(\" Quarto\",\"\")\n",
    "                                         .str.replace(\"s\",\"\")\n",
    "                                         .str.replace(\"--\",\"0\")\n",
    "                                         .astype(int))"
   ]
  },
  {
   "cell_type": "code",
   "execution_count": 29,
   "metadata": {},
   "outputs": [
    {
     "data": {
      "text/plain": [
       "{1, 2, 3, 4, 5, 6, 7, 9, 13}"
      ]
     },
     "execution_count": 29,
     "metadata": {},
     "output_type": "execute_result"
    }
   ],
   "source": [
    "set(zsul_sem_anuncios[\"comodos_limpos\"])"
   ]
  },
  {
   "cell_type": "code",
   "execution_count": 25,
   "metadata": {},
   "outputs": [
    {
     "data": {
      "text/plain": [
       "{'-- Banheiro',\n",
       " '1 Banheiro',\n",
       " '11 Banheiros',\n",
       " '12 Banheiros',\n",
       " '14 Banheiros',\n",
       " '2 Banheiros',\n",
       " '3 Banheiros',\n",
       " '4 Banheiros',\n",
       " '5 Banheiros',\n",
       " '6 Banheiros',\n",
       " '7 Banheiros',\n",
       " '8 Banheiros',\n",
       " '9 Banheiros'}"
      ]
     },
     "execution_count": 25,
     "metadata": {},
     "output_type": "execute_result"
    }
   ],
   "source": [
    "set(zsul_sem_anuncios[\"banheiros\"])"
   ]
  },
  {
   "cell_type": "code",
   "execution_count": 27,
   "metadata": {},
   "outputs": [
    {
     "data": {
      "text/plain": [
       "{'0', '1', '11', '12', '14', '2', '3', '4', '5', '6', '7', '8', '9'}"
      ]
     },
     "execution_count": 27,
     "metadata": {},
     "output_type": "execute_result"
    }
   ],
   "source": [
    "set(zsul_sem_anuncios[\"banheiros\"].str.split(\" \").str[0].str.replace(\"--\",\"0\"))"
   ]
  },
  {
   "cell_type": "code",
   "execution_count": 30,
   "metadata": {},
   "outputs": [],
   "source": [
    "zsul_sem_anuncios[\"banheiros_limpos\"] = 0\n",
    "zsul_sem_anuncios[\"banheiros_limpos\"] = (zsul_sem_anuncios[\"banheiros\"]\n",
    "                                         .str.replace(\" Banheiro\",\"\")\n",
    "                                         .str.replace(\"s\",\"\")\n",
    "                                         .str.replace(\"--\",\"0\")\n",
    "                                         .astype(int))"
   ]
  },
  {
   "cell_type": "code",
   "execution_count": 31,
   "metadata": {},
   "outputs": [
    {
     "data": {
      "text/plain": [
       "{0, 1, 2, 3, 4, 5, 6, 7, 8, 9, 11, 12, 14}"
      ]
     },
     "execution_count": 31,
     "metadata": {},
     "output_type": "execute_result"
    }
   ],
   "source": [
    "set(zsul_sem_anuncios[\"banheiros_limpos\"])"
   ]
  },
  {
   "cell_type": "code",
   "execution_count": 32,
   "metadata": {},
   "outputs": [
    {
     "data": {
      "text/plain": [
       "{'-- Vaga',\n",
       " '1 Vaga',\n",
       " '11 Vagas',\n",
       " '2 Vagas',\n",
       " '3 Vagas',\n",
       " '4 Vagas',\n",
       " '5 Vagas',\n",
       " '7 Vagas',\n",
       " '9 Vagas'}"
      ]
     },
     "execution_count": 32,
     "metadata": {},
     "output_type": "execute_result"
    }
   ],
   "source": [
    "set(zsul_sem_anuncios[\"garagens\"])"
   ]
  },
  {
   "cell_type": "code",
   "execution_count": 33,
   "metadata": {},
   "outputs": [
    {
     "data": {
      "text/plain": [
       "{'0', '1', '11', '2', '3', '4', '5', '7', '9'}"
      ]
     },
     "execution_count": 33,
     "metadata": {},
     "output_type": "execute_result"
    }
   ],
   "source": [
    "set(zsul_sem_anuncios[\"garagens\"].str.split(\" \").str[0].str.replace(\"--\",\"0\"))"
   ]
  },
  {
   "cell_type": "code",
   "execution_count": 34,
   "metadata": {},
   "outputs": [],
   "source": [
    "zsul_sem_anuncios[\"garagens_limpas\"] = 0\n",
    "zsul_sem_anuncios[\"garagens_limpas\"] = (zsul_sem_anuncios[\"garagens\"]\n",
    "                                         .str.replace(\" Vaga\",\"\")\n",
    "                                         .str.replace(\"s\",\"\")\n",
    "                                         .str.replace(\"--\",\"0\")\n",
    "                                         .astype(int))"
   ]
  },
  {
   "cell_type": "code",
   "execution_count": 35,
   "metadata": {},
   "outputs": [
    {
     "data": {
      "text/plain": [
       "{0, 1, 2, 3, 4, 5, 7, 9, 11}"
      ]
     },
     "execution_count": 35,
     "metadata": {},
     "output_type": "execute_result"
    }
   ],
   "source": [
    "set(zsul_sem_anuncios[\"garagens_limpas\"])"
   ]
  },
  {
   "cell_type": "code",
   "execution_count": 71,
   "metadata": {},
   "outputs": [],
   "source": [
    "zsul_sem_anuncios[\"preço_limpo\"] = 0\n",
    "zsul_sem_anuncios[\"preço_limpo\"] = [int(w.split(\"R$ \")[1]\n",
    "                                        .replace(\".\",\"\")\n",
    "                                        .replace(\"/mês\\n\",\"\")) for w in zsul_sem_anuncios[\"preço\"]]"
   ]
  },
  {
   "cell_type": "code",
   "execution_count": 79,
   "metadata": {},
   "outputs": [
    {
     "data": {
      "text/html": [
       "<div>\n",
       "<style scoped>\n",
       "    .dataframe tbody tr th:only-of-type {\n",
       "        vertical-align: middle;\n",
       "    }\n",
       "\n",
       "    .dataframe tbody tr th {\n",
       "        vertical-align: top;\n",
       "    }\n",
       "\n",
       "    .dataframe thead th {\n",
       "        text-align: right;\n",
       "    }\n",
       "</style>\n",
       "<table border=\"1\" class=\"dataframe\">\n",
       "  <thead>\n",
       "    <tr style=\"text-align: right;\">\n",
       "      <th></th>\n",
       "      <th>id</th>\n",
       "      <th>url</th>\n",
       "      <th>header</th>\n",
       "      <th>endereço</th>\n",
       "      <th>area</th>\n",
       "      <th>comodos</th>\n",
       "      <th>banheiros</th>\n",
       "      <th>garagens</th>\n",
       "      <th>extras</th>\n",
       "      <th>preço</th>\n",
       "      <th>condomínio</th>\n",
       "      <th>Bairro</th>\n",
       "      <th>Retirado em</th>\n",
       "      <th>comodos_limpo</th>\n",
       "      <th>comodos_limpos</th>\n",
       "      <th>banheiros_limpos</th>\n",
       "      <th>garagens_limpas</th>\n",
       "      <th>preço_limpo</th>\n",
       "      <th>price_limpo</th>\n",
       "      <th>condomínio_limpo</th>\n",
       "    </tr>\n",
       "  </thead>\n",
       "  <tbody>\n",
       "    <tr>\n",
       "      <th>0</th>\n",
       "      <td>2494003097</td>\n",
       "      <td>https://www.vivareal.com.br/imovel/apartamento...</td>\n",
       "      <td>Apartamento com 2 Quartos à Venda, 65m²</td>\n",
       "      <td>Rua Gomes Carneiro, 54 - Ipanema, Rio de Janei...</td>\n",
       "      <td>65</td>\n",
       "      <td>2 Quartos</td>\n",
       "      <td>2 Banheiros</td>\n",
       "      <td>-- Vaga</td>\n",
       "      <td>Elevador\\nCondomínio fechado\\nAr-condicionado\\...</td>\n",
       "      <td>R$ 900.000</td>\n",
       "      <td>R$ 1.200</td>\n",
       "      <td>Ipanema</td>\n",
       "      <td>2021-04-14 10:36</td>\n",
       "      <td>0</td>\n",
       "      <td>2</td>\n",
       "      <td>2</td>\n",
       "      <td>0</td>\n",
       "      <td>900000</td>\n",
       "      <td>900000</td>\n",
       "      <td>1200</td>\n",
       "    </tr>\n",
       "    <tr>\n",
       "      <th>1</th>\n",
       "      <td>2513330208</td>\n",
       "      <td>https://www.vivareal.com.br/imovel/apartamento...</td>\n",
       "      <td>Apartamento com 2 Quartos à Venda, 60m²</td>\n",
       "      <td>Rua Barão da Torre, 32 - Ipanema, Rio de Janei...</td>\n",
       "      <td>60</td>\n",
       "      <td>2 Quartos</td>\n",
       "      <td>1 Banheiro</td>\n",
       "      <td>-- Vaga</td>\n",
       "      <td>Elevador\\nAr-condicionado\\nAceita animais\\nBic...</td>\n",
       "      <td>R$ 750.000</td>\n",
       "      <td>R$ 998</td>\n",
       "      <td>Ipanema</td>\n",
       "      <td>2021-04-14 10:36</td>\n",
       "      <td>0</td>\n",
       "      <td>2</td>\n",
       "      <td>1</td>\n",
       "      <td>0</td>\n",
       "      <td>750000</td>\n",
       "      <td>750000</td>\n",
       "      <td>998</td>\n",
       "    </tr>\n",
       "    <tr>\n",
       "      <th>2</th>\n",
       "      <td>2492537104</td>\n",
       "      <td>https://www.vivareal.com.br/imovel/apartamento...</td>\n",
       "      <td>Apartamento com 3 Quartos à Venda, 109m²</td>\n",
       "      <td>Rua Almirante Saddock de Sá - Ipanema, Rio de ...</td>\n",
       "      <td>109</td>\n",
       "      <td>3 Quartos</td>\n",
       "      <td>2 Banheiros</td>\n",
       "      <td>1 Vaga</td>\n",
       "      <td>Área de serviço\\nAceita animais\\nEscritório\\nB...</td>\n",
       "      <td>R$ 1.988.000</td>\n",
       "      <td>R$ 1.119</td>\n",
       "      <td>Ipanema</td>\n",
       "      <td>2021-04-14 10:36</td>\n",
       "      <td>0</td>\n",
       "      <td>3</td>\n",
       "      <td>2</td>\n",
       "      <td>1</td>\n",
       "      <td>1988000</td>\n",
       "      <td>1988000</td>\n",
       "      <td>1119</td>\n",
       "    </tr>\n",
       "    <tr>\n",
       "      <th>3</th>\n",
       "      <td>2512731844</td>\n",
       "      <td>https://www.vivareal.com.br/imovel/apartamento...</td>\n",
       "      <td>Apartamento com 3 Quartos à Venda, 120m²</td>\n",
       "      <td>Rua Visconde de Pirajá, 128 - Ipanema, Rio de ...</td>\n",
       "      <td>120</td>\n",
       "      <td>3 Quartos</td>\n",
       "      <td>3 Banheiros</td>\n",
       "      <td>1 Vaga</td>\n",
       "      <td>Elevador\\nAr-condicionado\\nAceita animais\\nPor...</td>\n",
       "      <td>R$ 2.300.000</td>\n",
       "      <td>R$ 1.300</td>\n",
       "      <td>Ipanema</td>\n",
       "      <td>2021-04-14 10:36</td>\n",
       "      <td>0</td>\n",
       "      <td>3</td>\n",
       "      <td>3</td>\n",
       "      <td>1</td>\n",
       "      <td>2300000</td>\n",
       "      <td>2300000</td>\n",
       "      <td>1300</td>\n",
       "    </tr>\n",
       "    <tr>\n",
       "      <th>4</th>\n",
       "      <td>2498581711</td>\n",
       "      <td>https://www.vivareal.com.br/imovel/apartamento...</td>\n",
       "      <td>Apartamento com 4 Quartos à Venda, 350m²</td>\n",
       "      <td>Rua Prudente de Morais, 1240 - Ipanema, Rio de...</td>\n",
       "      <td>350</td>\n",
       "      <td>4 Quartos</td>\n",
       "      <td>6 Banheiros</td>\n",
       "      <td>11 Vagas</td>\n",
       "      <td>Mobiliado\\nElevador\\nCondomínio fechado\\nPlayg...</td>\n",
       "      <td>R$ 5.180.000</td>\n",
       "      <td>R$ 4.800</td>\n",
       "      <td>Ipanema</td>\n",
       "      <td>2021-04-14 10:36</td>\n",
       "      <td>0</td>\n",
       "      <td>4</td>\n",
       "      <td>6</td>\n",
       "      <td>11</td>\n",
       "      <td>5180000</td>\n",
       "      <td>5180000</td>\n",
       "      <td>4800</td>\n",
       "    </tr>\n",
       "  </tbody>\n",
       "</table>\n",
       "</div>"
      ],
      "text/plain": [
       "           id                                                url  \\\n",
       "0  2494003097  https://www.vivareal.com.br/imovel/apartamento...   \n",
       "1  2513330208  https://www.vivareal.com.br/imovel/apartamento...   \n",
       "2  2492537104  https://www.vivareal.com.br/imovel/apartamento...   \n",
       "3  2512731844  https://www.vivareal.com.br/imovel/apartamento...   \n",
       "4  2498581711  https://www.vivareal.com.br/imovel/apartamento...   \n",
       "\n",
       "                                     header  \\\n",
       "0   Apartamento com 2 Quartos à Venda, 65m²   \n",
       "1   Apartamento com 2 Quartos à Venda, 60m²   \n",
       "2  Apartamento com 3 Quartos à Venda, 109m²   \n",
       "3  Apartamento com 3 Quartos à Venda, 120m²   \n",
       "4  Apartamento com 4 Quartos à Venda, 350m²   \n",
       "\n",
       "                                            endereço area    comodos  \\\n",
       "0  Rua Gomes Carneiro, 54 - Ipanema, Rio de Janei...   65  2 Quartos   \n",
       "1  Rua Barão da Torre, 32 - Ipanema, Rio de Janei...   60  2 Quartos   \n",
       "2  Rua Almirante Saddock de Sá - Ipanema, Rio de ...  109  3 Quartos   \n",
       "3  Rua Visconde de Pirajá, 128 - Ipanema, Rio de ...  120  3 Quartos   \n",
       "4  Rua Prudente de Morais, 1240 - Ipanema, Rio de...  350  4 Quartos   \n",
       "\n",
       "     banheiros  garagens                                             extras  \\\n",
       "0  2 Banheiros   -- Vaga  Elevador\\nCondomínio fechado\\nAr-condicionado\\...   \n",
       "1   1 Banheiro   -- Vaga  Elevador\\nAr-condicionado\\nAceita animais\\nBic...   \n",
       "2  2 Banheiros    1 Vaga  Área de serviço\\nAceita animais\\nEscritório\\nB...   \n",
       "3  3 Banheiros    1 Vaga  Elevador\\nAr-condicionado\\nAceita animais\\nPor...   \n",
       "4  6 Banheiros  11 Vagas  Mobiliado\\nElevador\\nCondomínio fechado\\nPlayg...   \n",
       "\n",
       "          preço condomínio   Bairro       Retirado em  comodos_limpo  \\\n",
       "0    R$ 900.000   R$ 1.200  Ipanema  2021-04-14 10:36              0   \n",
       "1    R$ 750.000     R$ 998  Ipanema  2021-04-14 10:36              0   \n",
       "2  R$ 1.988.000   R$ 1.119  Ipanema  2021-04-14 10:36              0   \n",
       "3  R$ 2.300.000   R$ 1.300  Ipanema  2021-04-14 10:36              0   \n",
       "4  R$ 5.180.000   R$ 4.800  Ipanema  2021-04-14 10:36              0   \n",
       "\n",
       "   comodos_limpos  banheiros_limpos  garagens_limpas  preço_limpo  \\\n",
       "0               2                 2                0       900000   \n",
       "1               2                 1                0       750000   \n",
       "2               3                 2                1      1988000   \n",
       "3               3                 3                1      2300000   \n",
       "4               4                 6               11      5180000   \n",
       "\n",
       "   price_limpo  condomínio_limpo  \n",
       "0       900000              1200  \n",
       "1       750000               998  \n",
       "2      1988000              1119  \n",
       "3      2300000              1300  \n",
       "4      5180000              4800  "
      ]
     },
     "execution_count": 79,
     "metadata": {},
     "output_type": "execute_result"
    }
   ],
   "source": [
    "zsul_sem_anuncios.head(5)"
   ]
  },
  {
   "cell_type": "code",
   "execution_count": 75,
   "metadata": {},
   "outputs": [],
   "source": [
    "zsul_sem_anuncios.loc[zsul_sem_anuncios[\"condomínio\"].isnull(),\"condomínio\"] = 0"
   ]
  },
  {
   "cell_type": "code",
   "execution_count": 76,
   "metadata": {},
   "outputs": [],
   "source": [
    "zsul_sem_anuncios[\"condomínio_limpo\"] = [int(w.split(\"R$ \")[1].replace(\".\",\"\")) if w!=0 else 0 for w in zsul_sem_anuncios[\"condomínio\"]]"
   ]
  },
  {
   "cell_type": "code",
   "execution_count": 80,
   "metadata": {},
   "outputs": [
    {
     "data": {
      "text/html": [
       "<div>\n",
       "<style scoped>\n",
       "    .dataframe tbody tr th:only-of-type {\n",
       "        vertical-align: middle;\n",
       "    }\n",
       "\n",
       "    .dataframe tbody tr th {\n",
       "        vertical-align: top;\n",
       "    }\n",
       "\n",
       "    .dataframe thead th {\n",
       "        text-align: right;\n",
       "    }\n",
       "</style>\n",
       "<table border=\"1\" class=\"dataframe\">\n",
       "  <thead>\n",
       "    <tr style=\"text-align: right;\">\n",
       "      <th></th>\n",
       "      <th>id</th>\n",
       "      <th>url</th>\n",
       "      <th>header</th>\n",
       "      <th>endereço</th>\n",
       "      <th>area</th>\n",
       "      <th>comodos</th>\n",
       "      <th>banheiros</th>\n",
       "      <th>garagens</th>\n",
       "      <th>extras</th>\n",
       "      <th>preço</th>\n",
       "      <th>condomínio</th>\n",
       "      <th>Bairro</th>\n",
       "      <th>Retirado em</th>\n",
       "      <th>comodos_limpo</th>\n",
       "      <th>comodos_limpos</th>\n",
       "      <th>banheiros_limpos</th>\n",
       "      <th>garagens_limpas</th>\n",
       "      <th>preço_limpo</th>\n",
       "      <th>price_limpo</th>\n",
       "      <th>condomínio_limpo</th>\n",
       "    </tr>\n",
       "  </thead>\n",
       "  <tbody>\n",
       "    <tr>\n",
       "      <th>0</th>\n",
       "      <td>2494003097</td>\n",
       "      <td>https://www.vivareal.com.br/imovel/apartamento...</td>\n",
       "      <td>Apartamento com 2 Quartos à Venda, 65m²</td>\n",
       "      <td>Rua Gomes Carneiro, 54 - Ipanema, Rio de Janei...</td>\n",
       "      <td>65</td>\n",
       "      <td>2 Quartos</td>\n",
       "      <td>2 Banheiros</td>\n",
       "      <td>-- Vaga</td>\n",
       "      <td>Elevador\\nCondomínio fechado\\nAr-condicionado\\...</td>\n",
       "      <td>R$ 900.000</td>\n",
       "      <td>R$ 1.200</td>\n",
       "      <td>Ipanema</td>\n",
       "      <td>2021-04-14 10:36</td>\n",
       "      <td>0</td>\n",
       "      <td>2</td>\n",
       "      <td>2</td>\n",
       "      <td>0</td>\n",
       "      <td>900000</td>\n",
       "      <td>900000</td>\n",
       "      <td>1200</td>\n",
       "    </tr>\n",
       "    <tr>\n",
       "      <th>1</th>\n",
       "      <td>2513330208</td>\n",
       "      <td>https://www.vivareal.com.br/imovel/apartamento...</td>\n",
       "      <td>Apartamento com 2 Quartos à Venda, 60m²</td>\n",
       "      <td>Rua Barão da Torre, 32 - Ipanema, Rio de Janei...</td>\n",
       "      <td>60</td>\n",
       "      <td>2 Quartos</td>\n",
       "      <td>1 Banheiro</td>\n",
       "      <td>-- Vaga</td>\n",
       "      <td>Elevador\\nAr-condicionado\\nAceita animais\\nBic...</td>\n",
       "      <td>R$ 750.000</td>\n",
       "      <td>R$ 998</td>\n",
       "      <td>Ipanema</td>\n",
       "      <td>2021-04-14 10:36</td>\n",
       "      <td>0</td>\n",
       "      <td>2</td>\n",
       "      <td>1</td>\n",
       "      <td>0</td>\n",
       "      <td>750000</td>\n",
       "      <td>750000</td>\n",
       "      <td>998</td>\n",
       "    </tr>\n",
       "    <tr>\n",
       "      <th>2</th>\n",
       "      <td>2492537104</td>\n",
       "      <td>https://www.vivareal.com.br/imovel/apartamento...</td>\n",
       "      <td>Apartamento com 3 Quartos à Venda, 109m²</td>\n",
       "      <td>Rua Almirante Saddock de Sá - Ipanema, Rio de ...</td>\n",
       "      <td>109</td>\n",
       "      <td>3 Quartos</td>\n",
       "      <td>2 Banheiros</td>\n",
       "      <td>1 Vaga</td>\n",
       "      <td>Área de serviço\\nAceita animais\\nEscritório\\nB...</td>\n",
       "      <td>R$ 1.988.000</td>\n",
       "      <td>R$ 1.119</td>\n",
       "      <td>Ipanema</td>\n",
       "      <td>2021-04-14 10:36</td>\n",
       "      <td>0</td>\n",
       "      <td>3</td>\n",
       "      <td>2</td>\n",
       "      <td>1</td>\n",
       "      <td>1988000</td>\n",
       "      <td>1988000</td>\n",
       "      <td>1119</td>\n",
       "    </tr>\n",
       "    <tr>\n",
       "      <th>3</th>\n",
       "      <td>2512731844</td>\n",
       "      <td>https://www.vivareal.com.br/imovel/apartamento...</td>\n",
       "      <td>Apartamento com 3 Quartos à Venda, 120m²</td>\n",
       "      <td>Rua Visconde de Pirajá, 128 - Ipanema, Rio de ...</td>\n",
       "      <td>120</td>\n",
       "      <td>3 Quartos</td>\n",
       "      <td>3 Banheiros</td>\n",
       "      <td>1 Vaga</td>\n",
       "      <td>Elevador\\nAr-condicionado\\nAceita animais\\nPor...</td>\n",
       "      <td>R$ 2.300.000</td>\n",
       "      <td>R$ 1.300</td>\n",
       "      <td>Ipanema</td>\n",
       "      <td>2021-04-14 10:36</td>\n",
       "      <td>0</td>\n",
       "      <td>3</td>\n",
       "      <td>3</td>\n",
       "      <td>1</td>\n",
       "      <td>2300000</td>\n",
       "      <td>2300000</td>\n",
       "      <td>1300</td>\n",
       "    </tr>\n",
       "    <tr>\n",
       "      <th>4</th>\n",
       "      <td>2498581711</td>\n",
       "      <td>https://www.vivareal.com.br/imovel/apartamento...</td>\n",
       "      <td>Apartamento com 4 Quartos à Venda, 350m²</td>\n",
       "      <td>Rua Prudente de Morais, 1240 - Ipanema, Rio de...</td>\n",
       "      <td>350</td>\n",
       "      <td>4 Quartos</td>\n",
       "      <td>6 Banheiros</td>\n",
       "      <td>11 Vagas</td>\n",
       "      <td>Mobiliado\\nElevador\\nCondomínio fechado\\nPlayg...</td>\n",
       "      <td>R$ 5.180.000</td>\n",
       "      <td>R$ 4.800</td>\n",
       "      <td>Ipanema</td>\n",
       "      <td>2021-04-14 10:36</td>\n",
       "      <td>0</td>\n",
       "      <td>4</td>\n",
       "      <td>6</td>\n",
       "      <td>11</td>\n",
       "      <td>5180000</td>\n",
       "      <td>5180000</td>\n",
       "      <td>4800</td>\n",
       "    </tr>\n",
       "  </tbody>\n",
       "</table>\n",
       "</div>"
      ],
      "text/plain": [
       "           id                                                url  \\\n",
       "0  2494003097  https://www.vivareal.com.br/imovel/apartamento...   \n",
       "1  2513330208  https://www.vivareal.com.br/imovel/apartamento...   \n",
       "2  2492537104  https://www.vivareal.com.br/imovel/apartamento...   \n",
       "3  2512731844  https://www.vivareal.com.br/imovel/apartamento...   \n",
       "4  2498581711  https://www.vivareal.com.br/imovel/apartamento...   \n",
       "\n",
       "                                     header  \\\n",
       "0   Apartamento com 2 Quartos à Venda, 65m²   \n",
       "1   Apartamento com 2 Quartos à Venda, 60m²   \n",
       "2  Apartamento com 3 Quartos à Venda, 109m²   \n",
       "3  Apartamento com 3 Quartos à Venda, 120m²   \n",
       "4  Apartamento com 4 Quartos à Venda, 350m²   \n",
       "\n",
       "                                            endereço area    comodos  \\\n",
       "0  Rua Gomes Carneiro, 54 - Ipanema, Rio de Janei...   65  2 Quartos   \n",
       "1  Rua Barão da Torre, 32 - Ipanema, Rio de Janei...   60  2 Quartos   \n",
       "2  Rua Almirante Saddock de Sá - Ipanema, Rio de ...  109  3 Quartos   \n",
       "3  Rua Visconde de Pirajá, 128 - Ipanema, Rio de ...  120  3 Quartos   \n",
       "4  Rua Prudente de Morais, 1240 - Ipanema, Rio de...  350  4 Quartos   \n",
       "\n",
       "     banheiros  garagens                                             extras  \\\n",
       "0  2 Banheiros   -- Vaga  Elevador\\nCondomínio fechado\\nAr-condicionado\\...   \n",
       "1   1 Banheiro   -- Vaga  Elevador\\nAr-condicionado\\nAceita animais\\nBic...   \n",
       "2  2 Banheiros    1 Vaga  Área de serviço\\nAceita animais\\nEscritório\\nB...   \n",
       "3  3 Banheiros    1 Vaga  Elevador\\nAr-condicionado\\nAceita animais\\nPor...   \n",
       "4  6 Banheiros  11 Vagas  Mobiliado\\nElevador\\nCondomínio fechado\\nPlayg...   \n",
       "\n",
       "          preço condomínio   Bairro       Retirado em  comodos_limpo  \\\n",
       "0    R$ 900.000   R$ 1.200  Ipanema  2021-04-14 10:36              0   \n",
       "1    R$ 750.000     R$ 998  Ipanema  2021-04-14 10:36              0   \n",
       "2  R$ 1.988.000   R$ 1.119  Ipanema  2021-04-14 10:36              0   \n",
       "3  R$ 2.300.000   R$ 1.300  Ipanema  2021-04-14 10:36              0   \n",
       "4  R$ 5.180.000   R$ 4.800  Ipanema  2021-04-14 10:36              0   \n",
       "\n",
       "   comodos_limpos  banheiros_limpos  garagens_limpas  preço_limpo  \\\n",
       "0               2                 2                0       900000   \n",
       "1               2                 1                0       750000   \n",
       "2               3                 2                1      1988000   \n",
       "3               3                 3                1      2300000   \n",
       "4               4                 6               11      5180000   \n",
       "\n",
       "   price_limpo  condomínio_limpo  \n",
       "0       900000              1200  \n",
       "1       750000               998  \n",
       "2      1988000              1119  \n",
       "3      2300000              1300  \n",
       "4      5180000              4800  "
      ]
     },
     "execution_count": 80,
     "metadata": {},
     "output_type": "execute_result"
    }
   ],
   "source": [
    "zsul_sem_anuncios.head(5)"
   ]
  },
  {
   "cell_type": "code",
   "execution_count": 81,
   "metadata": {},
   "outputs": [],
   "source": [
    "del zsul_sem_anuncios[\"price_limpo\"]"
   ]
  },
  {
   "cell_type": "code",
   "execution_count": 84,
   "metadata": {},
   "outputs": [],
   "source": [
    "zsul_sem_anuncios[\"area_limpo\"] = zsul_sem_anuncios[\"area\"].astype(int)"
   ]
  },
  {
   "cell_type": "code",
   "execution_count": 86,
   "metadata": {},
   "outputs": [],
   "source": [
    "zsul_sem_anuncios[\"Retirado em\"] = pd.to_datetime(zsul_sem_anuncios[\"Retirado em\"], format=\"%Y-%m-%d %H:%M\")"
   ]
  },
  {
   "cell_type": "code",
   "execution_count": 87,
   "metadata": {},
   "outputs": [
    {
     "data": {
      "text/html": [
       "<div>\n",
       "<style scoped>\n",
       "    .dataframe tbody tr th:only-of-type {\n",
       "        vertical-align: middle;\n",
       "    }\n",
       "\n",
       "    .dataframe tbody tr th {\n",
       "        vertical-align: top;\n",
       "    }\n",
       "\n",
       "    .dataframe thead th {\n",
       "        text-align: right;\n",
       "    }\n",
       "</style>\n",
       "<table border=\"1\" class=\"dataframe\">\n",
       "  <thead>\n",
       "    <tr style=\"text-align: right;\">\n",
       "      <th></th>\n",
       "      <th>id</th>\n",
       "      <th>url</th>\n",
       "      <th>header</th>\n",
       "      <th>endereço</th>\n",
       "      <th>area</th>\n",
       "      <th>comodos</th>\n",
       "      <th>banheiros</th>\n",
       "      <th>garagens</th>\n",
       "      <th>extras</th>\n",
       "      <th>preço</th>\n",
       "      <th>condomínio</th>\n",
       "      <th>Bairro</th>\n",
       "      <th>Retirado em</th>\n",
       "      <th>comodos_limpo</th>\n",
       "      <th>comodos_limpos</th>\n",
       "      <th>banheiros_limpos</th>\n",
       "      <th>garagens_limpas</th>\n",
       "      <th>preço_limpo</th>\n",
       "      <th>condomínio_limpo</th>\n",
       "      <th>area_limpo</th>\n",
       "    </tr>\n",
       "  </thead>\n",
       "  <tbody>\n",
       "    <tr>\n",
       "      <th>0</th>\n",
       "      <td>2494003097</td>\n",
       "      <td>https://www.vivareal.com.br/imovel/apartamento...</td>\n",
       "      <td>Apartamento com 2 Quartos à Venda, 65m²</td>\n",
       "      <td>Rua Gomes Carneiro, 54 - Ipanema, Rio de Janei...</td>\n",
       "      <td>65</td>\n",
       "      <td>2 Quartos</td>\n",
       "      <td>2 Banheiros</td>\n",
       "      <td>-- Vaga</td>\n",
       "      <td>Elevador\\nCondomínio fechado\\nAr-condicionado\\...</td>\n",
       "      <td>R$ 900.000</td>\n",
       "      <td>R$ 1.200</td>\n",
       "      <td>Ipanema</td>\n",
       "      <td>2021-04-14 10:36:00</td>\n",
       "      <td>0</td>\n",
       "      <td>2</td>\n",
       "      <td>2</td>\n",
       "      <td>0</td>\n",
       "      <td>900000</td>\n",
       "      <td>1200</td>\n",
       "      <td>65</td>\n",
       "    </tr>\n",
       "  </tbody>\n",
       "</table>\n",
       "</div>"
      ],
      "text/plain": [
       "           id                                                url  \\\n",
       "0  2494003097  https://www.vivareal.com.br/imovel/apartamento...   \n",
       "\n",
       "                                    header  \\\n",
       "0  Apartamento com 2 Quartos à Venda, 65m²   \n",
       "\n",
       "                                            endereço area    comodos  \\\n",
       "0  Rua Gomes Carneiro, 54 - Ipanema, Rio de Janei...   65  2 Quartos   \n",
       "\n",
       "     banheiros garagens                                             extras  \\\n",
       "0  2 Banheiros  -- Vaga  Elevador\\nCondomínio fechado\\nAr-condicionado\\...   \n",
       "\n",
       "        preço condomínio   Bairro         Retirado em  comodos_limpo  \\\n",
       "0  R$ 900.000   R$ 1.200  Ipanema 2021-04-14 10:36:00              0   \n",
       "\n",
       "   comodos_limpos  banheiros_limpos  garagens_limpas  preço_limpo  \\\n",
       "0               2                 2                0       900000   \n",
       "\n",
       "   condomínio_limpo  area_limpo  \n",
       "0              1200          65  "
      ]
     },
     "execution_count": 87,
     "metadata": {},
     "output_type": "execute_result"
    }
   ],
   "source": [
    "zsul_sem_anuncios.head(1)"
   ]
  },
  {
   "cell_type": "code",
   "execution_count": 88,
   "metadata": {},
   "outputs": [],
   "source": [
    "zsul_sem_anuncios = zsul_sem_anuncios.drop(columns=[\"area\", \"comodos\", \"banheiros\", \"garagens\", \"preço\", \"condomínio\"])"
   ]
  },
  {
   "cell_type": "code",
   "execution_count": 89,
   "metadata": {},
   "outputs": [
    {
     "data": {
      "text/html": [
       "<div>\n",
       "<style scoped>\n",
       "    .dataframe tbody tr th:only-of-type {\n",
       "        vertical-align: middle;\n",
       "    }\n",
       "\n",
       "    .dataframe tbody tr th {\n",
       "        vertical-align: top;\n",
       "    }\n",
       "\n",
       "    .dataframe thead th {\n",
       "        text-align: right;\n",
       "    }\n",
       "</style>\n",
       "<table border=\"1\" class=\"dataframe\">\n",
       "  <thead>\n",
       "    <tr style=\"text-align: right;\">\n",
       "      <th></th>\n",
       "      <th>id</th>\n",
       "      <th>url</th>\n",
       "      <th>header</th>\n",
       "      <th>endereço</th>\n",
       "      <th>extras</th>\n",
       "      <th>Bairro</th>\n",
       "      <th>Retirado em</th>\n",
       "      <th>comodos_limpo</th>\n",
       "      <th>comodos_limpos</th>\n",
       "      <th>banheiros_limpos</th>\n",
       "      <th>garagens_limpas</th>\n",
       "      <th>preço_limpo</th>\n",
       "      <th>condomínio_limpo</th>\n",
       "      <th>area_limpo</th>\n",
       "    </tr>\n",
       "  </thead>\n",
       "  <tbody>\n",
       "    <tr>\n",
       "      <th>0</th>\n",
       "      <td>2494003097</td>\n",
       "      <td>https://www.vivareal.com.br/imovel/apartamento...</td>\n",
       "      <td>Apartamento com 2 Quartos à Venda, 65m²</td>\n",
       "      <td>Rua Gomes Carneiro, 54 - Ipanema, Rio de Janei...</td>\n",
       "      <td>Elevador\\nCondomínio fechado\\nAr-condicionado\\...</td>\n",
       "      <td>Ipanema</td>\n",
       "      <td>2021-04-14 10:36:00</td>\n",
       "      <td>0</td>\n",
       "      <td>2</td>\n",
       "      <td>2</td>\n",
       "      <td>0</td>\n",
       "      <td>900000</td>\n",
       "      <td>1200</td>\n",
       "      <td>65</td>\n",
       "    </tr>\n",
       "  </tbody>\n",
       "</table>\n",
       "</div>"
      ],
      "text/plain": [
       "           id                                                url  \\\n",
       "0  2494003097  https://www.vivareal.com.br/imovel/apartamento...   \n",
       "\n",
       "                                    header  \\\n",
       "0  Apartamento com 2 Quartos à Venda, 65m²   \n",
       "\n",
       "                                            endereço  \\\n",
       "0  Rua Gomes Carneiro, 54 - Ipanema, Rio de Janei...   \n",
       "\n",
       "                                              extras   Bairro  \\\n",
       "0  Elevador\\nCondomínio fechado\\nAr-condicionado\\...  Ipanema   \n",
       "\n",
       "          Retirado em  comodos_limpo  comodos_limpos  banheiros_limpos  \\\n",
       "0 2021-04-14 10:36:00              0               2                 2   \n",
       "\n",
       "   garagens_limpas  preço_limpo  condomínio_limpo  area_limpo  \n",
       "0                0       900000              1200          65  "
      ]
     },
     "execution_count": 89,
     "metadata": {},
     "output_type": "execute_result"
    }
   ],
   "source": [
    "zsul_sem_anuncios.head(1)"
   ]
  },
  {
   "cell_type": "code",
   "execution_count": 90,
   "metadata": {},
   "outputs": [
    {
     "data": {
      "text/plain": [
       "0    Elevador\\nCondomínio fechado\\nAr-condicionado\\...\n",
       "1    Elevador\\nAr-condicionado\\nAceita animais\\nBic...\n",
       "2    Área de serviço\\nAceita animais\\nEscritório\\nB...\n",
       "3    Elevador\\nAr-condicionado\\nAceita animais\\nPor...\n",
       "4    Mobiliado\\nElevador\\nCondomínio fechado\\nPlayg...\n",
       "Name: extras, dtype: object"
      ]
     },
     "execution_count": 90,
     "metadata": {},
     "output_type": "execute_result"
    }
   ],
   "source": [
    "zsul_sem_anuncios['extras'].head(5)"
   ]
  },
  {
   "cell_type": "code",
   "execution_count": 91,
   "metadata": {},
   "outputs": [],
   "source": [
    "zsul_sem_anuncios['extras'] = zsul_sem_anuncios['extras'].str.split('\\n')"
   ]
  },
  {
   "cell_type": "code",
   "execution_count": 92,
   "metadata": {},
   "outputs": [
    {
     "data": {
      "text/plain": [
       "0    [Elevador, Condomínio fechado, Ar-condicionado...\n",
       "1    [Elevador, Ar-condicionado, Aceita animais, Bi...\n",
       "2    [Área de serviço, Aceita animais, Escritório, ...\n",
       "3    [Elevador, Ar-condicionado, Aceita animais, Po...\n",
       "4    [Mobiliado, Elevador, Condomínio fechado, Play...\n",
       "Name: extras, dtype: object"
      ]
     },
     "execution_count": 92,
     "metadata": {},
     "output_type": "execute_result"
    }
   ],
   "source": [
    "zsul_sem_anuncios['extras'].head(5)"
   ]
  },
  {
   "cell_type": "code",
   "execution_count": 93,
   "metadata": {},
   "outputs": [],
   "source": [
    "zsul_sem_anuncios['extras'] = zsul_sem_anuncios['extras'].fillna(\"\")"
   ]
  },
  {
   "cell_type": "code",
   "execution_count": 94,
   "metadata": {},
   "outputs": [],
   "source": [
    "extras = []\n",
    "for extr in zsul_sem_anuncios[\"extras\"]:\n",
    "    if extr != \"\":\n",
    "        extras = extras + extr"
   ]
  },
  {
   "cell_type": "code",
   "execution_count": 95,
   "metadata": {},
   "outputs": [],
   "source": [
    "extras_unicos = list(set(extras))"
   ]
  },
  {
   "cell_type": "code",
   "execution_count": 96,
   "metadata": {},
   "outputs": [
    {
     "data": {
      "text/plain": [
       "0    [Elevador, Condomínio fechado, Ar-condicionado...\n",
       "1    [Elevador, Ar-condicionado, Aceita animais, Bi...\n",
       "2    [Área de serviço, Aceita animais, Escritório, ...\n",
       "3    [Elevador, Ar-condicionado, Aceita animais, Po...\n",
       "4    [Mobiliado, Elevador, Condomínio fechado, Play...\n",
       "Name: extras, dtype: object"
      ]
     },
     "execution_count": 96,
     "metadata": {},
     "output_type": "execute_result"
    }
   ],
   "source": [
    "zsul_sem_anuncios['extras'].head(5)"
   ]
  },
  {
   "cell_type": "code",
   "execution_count": 97,
   "metadata": {},
   "outputs": [],
   "source": [
    "zsul_sem_anuncios['extras'] = zsul_sem_anuncios['extras'].str.join(\", \")"
   ]
  },
  {
   "cell_type": "code",
   "execution_count": 98,
   "metadata": {},
   "outputs": [
    {
     "data": {
      "text/plain": [
       "0    Elevador, Condomínio fechado, Ar-condicionado,...\n",
       "1    Elevador, Ar-condicionado, Aceita animais, Bic...\n",
       "2    Área de serviço, Aceita animais, Escritório, B...\n",
       "3    Elevador, Ar-condicionado, Aceita animais, Por...\n",
       "4    Mobiliado, Elevador, Condomínio fechado, Playg...\n",
       "Name: extras, dtype: object"
      ]
     },
     "execution_count": 98,
     "metadata": {},
     "output_type": "execute_result"
    }
   ],
   "source": [
    "zsul_sem_anuncios['extras'].head(5)"
   ]
  },
  {
   "cell_type": "code",
   "execution_count": 99,
   "metadata": {},
   "outputs": [
    {
     "name": "stdout",
     "output_type": "stream",
     "text": [
      "Condomínio fechado\n",
      "Acesso para deficientes\n",
      "Portão eletrônico\n",
      "Vista panorâmica\n",
      "Aquecimento\n",
      "Hall de entrada\n",
      "Salão de jogos\n",
      "Cozinha\n",
      "Porcelanato\n",
      "Despensa\n",
      "Piscina para adulto\n",
      "Varanda\n",
      "Cozinha grande\n",
      "Churrasqueira\n",
      "Espaço gourmet\n",
      "Depósito\n",
      "Portaria 24h\n",
      "Jardim\n",
      "Janela grande\n",
      "Copa\n",
      "Estacionamento para visitantes\n",
      "Próximo a transporte público\n",
      "Quadra de tênis\n",
      "Gramado\n",
      "Móvel planejado\n",
      "Vigia\n",
      "Cabeamento estruturado\n",
      "TV a cabo\n",
      "Vista para lago\n",
      "Próximo a hospitais\n",
      "Spa\n",
      "Perto de vias de acesso\n",
      "Vista para o mar\n",
      "Academia\n",
      "Espaço verde / Parque\n",
      "Bicicletário\n",
      "Espaço teen\n",
      "Box blindex\n",
      "Ar-condicionado\n",
      "Janela de alumínio\n",
      "Recepção\n",
      "Quadra poliesportiva\n",
      "Segurança 24h\n",
      "Garagem\n",
      "Piscina\n",
      "Ambientes integrados\n",
      "Aceita animais\n",
      "Varanda gourmet\n",
      "Próximo a escola\n",
      "Quintal\n",
      "Vista exterior\n",
      "Circuito de segurança\n",
      "Isolamento acústico\n",
      "Andar inteiro\n",
      "Churrasqueira na varanda\n",
      "Conexão à internet\n",
      "Elevador\n",
      "Sauna\n",
      "Armário na cozinha\n",
      "Escritório\n",
      "Piscina infantil\n",
      "Sala grande\n",
      "Sala de jantar\n",
      "Playground\n",
      "Próximo a shopping\n",
      "Mais de um andar\n",
      "Mobiliado\n",
      "Sistema de alarme\n",
      "Área de lazer\n",
      "Lavanderia\n",
      "Área de serviço\n",
      "Cozinha americana\n",
      "Piso de madeira\n",
      "Interfone\n",
      "Gás Encanado\n",
      "Vista para a montanha\n",
      "Ventilação natural\n",
      "Closet\n",
      "Armário embutido\n",
      "Lavabo\n",
      "Armário embutido no quarto\n",
      "Salão de festas\n",
      "Piso laminado\n",
      "Gesso - Sanca - Teto Rebaixado\n",
      "Quarto de serviço\n",
      "Gerador elétrico\n"
     ]
    }
   ],
   "source": [
    "for extras in extras_unicos:\n",
    "    print(extras)\n",
    "    zsul_sem_anuncios[extras]=0\n",
    "    zsul_sem_anuncios.loc[zsul_sem_anuncios[\"extras\"].str.contains(extras), extras] = 1"
   ]
  },
  {
   "cell_type": "code",
   "execution_count": 100,
   "metadata": {},
   "outputs": [
    {
     "data": {
      "text/html": [
       "<div>\n",
       "<style scoped>\n",
       "    .dataframe tbody tr th:only-of-type {\n",
       "        vertical-align: middle;\n",
       "    }\n",
       "\n",
       "    .dataframe tbody tr th {\n",
       "        vertical-align: top;\n",
       "    }\n",
       "\n",
       "    .dataframe thead th {\n",
       "        text-align: right;\n",
       "    }\n",
       "</style>\n",
       "<table border=\"1\" class=\"dataframe\">\n",
       "  <thead>\n",
       "    <tr style=\"text-align: right;\">\n",
       "      <th></th>\n",
       "      <th>id</th>\n",
       "      <th>url</th>\n",
       "      <th>header</th>\n",
       "      <th>endereço</th>\n",
       "      <th>extras</th>\n",
       "      <th>Bairro</th>\n",
       "      <th>Retirado em</th>\n",
       "      <th>comodos_limpo</th>\n",
       "      <th>comodos_limpos</th>\n",
       "      <th>banheiros_limpos</th>\n",
       "      <th>...</th>\n",
       "      <th>Ventilação natural</th>\n",
       "      <th>Closet</th>\n",
       "      <th>Armário embutido</th>\n",
       "      <th>Lavabo</th>\n",
       "      <th>Armário embutido no quarto</th>\n",
       "      <th>Salão de festas</th>\n",
       "      <th>Piso laminado</th>\n",
       "      <th>Gesso - Sanca - Teto Rebaixado</th>\n",
       "      <th>Quarto de serviço</th>\n",
       "      <th>Gerador elétrico</th>\n",
       "    </tr>\n",
       "  </thead>\n",
       "  <tbody>\n",
       "    <tr>\n",
       "      <th>0</th>\n",
       "      <td>2494003097</td>\n",
       "      <td>https://www.vivareal.com.br/imovel/apartamento...</td>\n",
       "      <td>Apartamento com 2 Quartos à Venda, 65m²</td>\n",
       "      <td>Rua Gomes Carneiro, 54 - Ipanema, Rio de Janei...</td>\n",
       "      <td>Elevador, Condomínio fechado, Ar-condicionado,...</td>\n",
       "      <td>Ipanema</td>\n",
       "      <td>2021-04-14 10:36:00</td>\n",
       "      <td>0</td>\n",
       "      <td>2</td>\n",
       "      <td>2</td>\n",
       "      <td>...</td>\n",
       "      <td>0</td>\n",
       "      <td>0</td>\n",
       "      <td>0</td>\n",
       "      <td>0</td>\n",
       "      <td>0</td>\n",
       "      <td>0</td>\n",
       "      <td>0</td>\n",
       "      <td>0</td>\n",
       "      <td>0</td>\n",
       "      <td>0</td>\n",
       "    </tr>\n",
       "    <tr>\n",
       "      <th>1</th>\n",
       "      <td>2513330208</td>\n",
       "      <td>https://www.vivareal.com.br/imovel/apartamento...</td>\n",
       "      <td>Apartamento com 2 Quartos à Venda, 60m²</td>\n",
       "      <td>Rua Barão da Torre, 32 - Ipanema, Rio de Janei...</td>\n",
       "      <td>Elevador, Ar-condicionado, Aceita animais, Bic...</td>\n",
       "      <td>Ipanema</td>\n",
       "      <td>2021-04-14 10:36:00</td>\n",
       "      <td>0</td>\n",
       "      <td>2</td>\n",
       "      <td>1</td>\n",
       "      <td>...</td>\n",
       "      <td>0</td>\n",
       "      <td>0</td>\n",
       "      <td>0</td>\n",
       "      <td>0</td>\n",
       "      <td>0</td>\n",
       "      <td>0</td>\n",
       "      <td>0</td>\n",
       "      <td>0</td>\n",
       "      <td>0</td>\n",
       "      <td>0</td>\n",
       "    </tr>\n",
       "    <tr>\n",
       "      <th>2</th>\n",
       "      <td>2492537104</td>\n",
       "      <td>https://www.vivareal.com.br/imovel/apartamento...</td>\n",
       "      <td>Apartamento com 3 Quartos à Venda, 109m²</td>\n",
       "      <td>Rua Almirante Saddock de Sá - Ipanema, Rio de ...</td>\n",
       "      <td>Área de serviço, Aceita animais, Escritório, B...</td>\n",
       "      <td>Ipanema</td>\n",
       "      <td>2021-04-14 10:36:00</td>\n",
       "      <td>0</td>\n",
       "      <td>3</td>\n",
       "      <td>2</td>\n",
       "      <td>...</td>\n",
       "      <td>0</td>\n",
       "      <td>0</td>\n",
       "      <td>1</td>\n",
       "      <td>0</td>\n",
       "      <td>0</td>\n",
       "      <td>0</td>\n",
       "      <td>0</td>\n",
       "      <td>0</td>\n",
       "      <td>0</td>\n",
       "      <td>0</td>\n",
       "    </tr>\n",
       "    <tr>\n",
       "      <th>3</th>\n",
       "      <td>2512731844</td>\n",
       "      <td>https://www.vivareal.com.br/imovel/apartamento...</td>\n",
       "      <td>Apartamento com 3 Quartos à Venda, 120m²</td>\n",
       "      <td>Rua Visconde de Pirajá, 128 - Ipanema, Rio de ...</td>\n",
       "      <td>Elevador, Ar-condicionado, Aceita animais, Por...</td>\n",
       "      <td>Ipanema</td>\n",
       "      <td>2021-04-14 10:36:00</td>\n",
       "      <td>0</td>\n",
       "      <td>3</td>\n",
       "      <td>3</td>\n",
       "      <td>...</td>\n",
       "      <td>0</td>\n",
       "      <td>0</td>\n",
       "      <td>0</td>\n",
       "      <td>0</td>\n",
       "      <td>0</td>\n",
       "      <td>0</td>\n",
       "      <td>0</td>\n",
       "      <td>0</td>\n",
       "      <td>0</td>\n",
       "      <td>0</td>\n",
       "    </tr>\n",
       "    <tr>\n",
       "      <th>4</th>\n",
       "      <td>2498581711</td>\n",
       "      <td>https://www.vivareal.com.br/imovel/apartamento...</td>\n",
       "      <td>Apartamento com 4 Quartos à Venda, 350m²</td>\n",
       "      <td>Rua Prudente de Morais, 1240 - Ipanema, Rio de...</td>\n",
       "      <td>Mobiliado, Elevador, Condomínio fechado, Playg...</td>\n",
       "      <td>Ipanema</td>\n",
       "      <td>2021-04-14 10:36:00</td>\n",
       "      <td>0</td>\n",
       "      <td>4</td>\n",
       "      <td>6</td>\n",
       "      <td>...</td>\n",
       "      <td>0</td>\n",
       "      <td>0</td>\n",
       "      <td>0</td>\n",
       "      <td>0</td>\n",
       "      <td>0</td>\n",
       "      <td>0</td>\n",
       "      <td>0</td>\n",
       "      <td>0</td>\n",
       "      <td>0</td>\n",
       "      <td>0</td>\n",
       "    </tr>\n",
       "  </tbody>\n",
       "</table>\n",
       "<p>5 rows × 100 columns</p>\n",
       "</div>"
      ],
      "text/plain": [
       "           id                                                url  \\\n",
       "0  2494003097  https://www.vivareal.com.br/imovel/apartamento...   \n",
       "1  2513330208  https://www.vivareal.com.br/imovel/apartamento...   \n",
       "2  2492537104  https://www.vivareal.com.br/imovel/apartamento...   \n",
       "3  2512731844  https://www.vivareal.com.br/imovel/apartamento...   \n",
       "4  2498581711  https://www.vivareal.com.br/imovel/apartamento...   \n",
       "\n",
       "                                     header  \\\n",
       "0   Apartamento com 2 Quartos à Venda, 65m²   \n",
       "1   Apartamento com 2 Quartos à Venda, 60m²   \n",
       "2  Apartamento com 3 Quartos à Venda, 109m²   \n",
       "3  Apartamento com 3 Quartos à Venda, 120m²   \n",
       "4  Apartamento com 4 Quartos à Venda, 350m²   \n",
       "\n",
       "                                            endereço  \\\n",
       "0  Rua Gomes Carneiro, 54 - Ipanema, Rio de Janei...   \n",
       "1  Rua Barão da Torre, 32 - Ipanema, Rio de Janei...   \n",
       "2  Rua Almirante Saddock de Sá - Ipanema, Rio de ...   \n",
       "3  Rua Visconde de Pirajá, 128 - Ipanema, Rio de ...   \n",
       "4  Rua Prudente de Morais, 1240 - Ipanema, Rio de...   \n",
       "\n",
       "                                              extras   Bairro  \\\n",
       "0  Elevador, Condomínio fechado, Ar-condicionado,...  Ipanema   \n",
       "1  Elevador, Ar-condicionado, Aceita animais, Bic...  Ipanema   \n",
       "2  Área de serviço, Aceita animais, Escritório, B...  Ipanema   \n",
       "3  Elevador, Ar-condicionado, Aceita animais, Por...  Ipanema   \n",
       "4  Mobiliado, Elevador, Condomínio fechado, Playg...  Ipanema   \n",
       "\n",
       "          Retirado em  comodos_limpo  comodos_limpos  banheiros_limpos  ...  \\\n",
       "0 2021-04-14 10:36:00              0               2                 2  ...   \n",
       "1 2021-04-14 10:36:00              0               2                 1  ...   \n",
       "2 2021-04-14 10:36:00              0               3                 2  ...   \n",
       "3 2021-04-14 10:36:00              0               3                 3  ...   \n",
       "4 2021-04-14 10:36:00              0               4                 6  ...   \n",
       "\n",
       "   Ventilação natural  Closet  Armário embutido  Lavabo  \\\n",
       "0                   0       0                 0       0   \n",
       "1                   0       0                 0       0   \n",
       "2                   0       0                 1       0   \n",
       "3                   0       0                 0       0   \n",
       "4                   0       0                 0       0   \n",
       "\n",
       "   Armário embutido no quarto  Salão de festas  Piso laminado  \\\n",
       "0                           0                0              0   \n",
       "1                           0                0              0   \n",
       "2                           0                0              0   \n",
       "3                           0                0              0   \n",
       "4                           0                0              0   \n",
       "\n",
       "   Gesso - Sanca - Teto Rebaixado  Quarto de serviço  Gerador elétrico  \n",
       "0                               0                  0                 0  \n",
       "1                               0                  0                 0  \n",
       "2                               0                  0                 0  \n",
       "3                               0                  0                 0  \n",
       "4                               0                  0                 0  \n",
       "\n",
       "[5 rows x 100 columns]"
      ]
     },
     "execution_count": 100,
     "metadata": {},
     "output_type": "execute_result"
    }
   ],
   "source": [
    "zsul_sem_anuncios.head(5)"
   ]
  },
  {
   "cell_type": "code",
   "execution_count": 101,
   "metadata": {},
   "outputs": [],
   "source": [
    "zsul_sem_anuncios.to_csv(\"ZSul_RJ_Limpo_I.csv\", index=False)"
   ]
  },
  {
   "cell_type": "code",
   "execution_count": null,
   "metadata": {},
   "outputs": [],
   "source": []
  }
 ],
 "metadata": {
  "kernelspec": {
   "display_name": "Python 3",
   "language": "python",
   "name": "python3"
  },
  "language_info": {
   "codemirror_mode": {
    "name": "ipython",
    "version": 3
   },
   "file_extension": ".py",
   "mimetype": "text/x-python",
   "name": "python",
   "nbconvert_exporter": "python",
   "pygments_lexer": "ipython3",
   "version": "3.8.5"
  }
 },
 "nbformat": 4,
 "nbformat_minor": 4
}
